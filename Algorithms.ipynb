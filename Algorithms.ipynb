{
 "cells": [
  {
   "cell_type": "markdown",
   "metadata": {},
   "source": [
    "<h1>Algorithms Reference Book</h1>\n",
    "<h2>A personal reference to accompany the <a href=\"https://www.manning.com/books/grokking-algorithms\"> Grokking Algorithms textbook</a></h2>\n",
    "This jupyter notebook serves a reference to the Grokking Algorithms illustrated guide, and lays out examples of the algorithms discussed within its text, demonstrated in Python. The intended purpose is to be a helpful guide for myself and others to refer too for revision."
   ]
  },
  {
   "cell_type": "markdown",
   "metadata": {},
   "source": [
    "<h3>Breadth-first search</h3>\n",
    "Breadth-first search algorithms are used for finding if a path exists, and the shortest possible path in an unweighted graph. The function below is an implementation of breadth-first search in python."
   ]
  },
  {
   "cell_type": "code",
   "execution_count": null,
   "metadata": {
    "collapsed": true
   },
   "outputs": [],
   "source": [
    "# %load breadth_first.py\n",
    "\n",
    "import collections\n",
    "\n",
    "def search(start_point, query_function, graph):\n",
    "    \"\"\"Params:\n",
    "        start_point: starting node, must be an existing key in graph\n",
    "        query_function: function to pass search queries, must return boolean value\n",
    "        graph: graph to search. Expects hash table datatype\"\"\"\n",
    "    queue = collections.deque()\n",
    "    queue += graph[start_point]\n",
    "    searched = []\n",
    "\n",
    "    while queue:\n",
    "        query = queue.popleft()\n",
    "        if not query in searched:\n",
    "            if query_function(query):\n",
    "                print(\"Matching node found!\")\n",
    "                return {\"query_node\": query, \"path\": searched}\n",
    "        else:\n",
    "            queue += graph[query]\n",
    "            searched.append(query)\n",
    "    return False\n"
   ]
  },
  {
   "cell_type": "markdown",
   "metadata": {},
   "source": [
    "Notes on breadth first search:\n",
    "* Tells you if there is a path from A to B\n",
    "* If a path exists, it will find the shortest path\n",
    "* When relating to distance, try modeling a problem as a graph\n",
    "* A directed graph has arrows, and the relationship follows the arrows\n",
    "* Undirected graphs don't have arrows and the relationship goes both ways\n",
    "* Queues are FIFO (first in first out)\n",
    "* Stacks are LIFO (last in first out)\n",
    "* When doing breadth first, use a queue, need to check objects in the order they were added to the search list, otherwise you won't get the shortest path\n",
    "* Make sure not to check objects twice, or else you will get an infinite loop"
   ]
  },
  {
   "cell_type": "markdown",
   "metadata": {},
   "source": [
    "<h3>Dijkstra's Algorithm</h3>\n",
    "Dijkstra's (pronounced deyek-stra) algorithm is for finding the shortest possible path in weighted directed acyclic graphs. NOTE: Dijkstra's algorithm does not work on graphs with negative weighted edges. See the Bellman-ford algorithm."
   ]
  },
  {
   "cell_type": "code",
   "execution_count": null,
   "metadata": {},
   "outputs": [],
   "source": [
    "# %load Dijkstras_Algorithm.py\n",
    "class Dijkstra:\n",
    "    def __init__(self, graph):\n",
    "        \"\"\"Initialise Dijkstra search.\n",
    "        Params:\n",
    "            Graph: should be a nested dictionary detailing nodes, neighbours\n",
    "            and weights for edges connecting nodes and neighbours\"\"\"\n",
    "        if istype(graph) is dict:\n",
    "            self.graph = graph\n",
    "        else:\n",
    "            print(\"Graph of invalid datatype\")\n",
    "            break\n",
    "        self.infinity = float(\"inf\")\n",
    "\n",
    "    def init_costs(self, start_node):\n",
    "        #We only know the costs for the neighbours of the starting node\n",
    "        #Set all other nodes to infinity\n",
    "        costs = {}\n",
    "        for node in self.graph:\n",
    "            if node == start_node:\n",
    "                for k, v in node.items():\n",
    "                    costs[k] = v\n",
    "            else:\n",
    "                for k, v in node:\n",
    "                    costs[k] = self.infinity\n",
    "        return costs\n",
    "\n",
    "    def init_parents(self, start_node):\n",
    "        #Set the parent of neighbours to start node\n",
    "        parents = {}\n",
    "        for k, v in self.graph[start_node].items():\n",
    "            parents[k] = \"start\"\n",
    "        return parents\n",
    "\n",
    "    def find_lowest_cost_node(self, costs, processed_nodes):\n",
    "        lowest_cost = float(\"inf\")\n",
    "        lowest_cost_node = None\n",
    "        for node in costs:\n",
    "            cost = costs[node]\n",
    "            if cost < lowest_cost_node and node not in processed_nodes:\n",
    "                lowest_cost = cost\n",
    "                lowest_cost_node = node\n",
    "        return lowest_cost_node\n",
    "\n",
    "    def find_shortest_path(self, start_node):\n",
    "        costs = self.init_costs(start_node)\n",
    "        parents = self.parents(start_node)\n",
    "        processed = []\n",
    "        node = self.find_lowest_cost_node(costs, processed)\n",
    "\n",
    "        while node is not None:\n",
    "            cost = costs[node]\n",
    "            neighbours = self.graph[node]\n",
    "            for n in neighbours.keys():\n",
    "                new_cost = cost + neighbours[n]\n",
    "                if costs[n] > new_cost:\n",
    "                    costs[n] = new_cost\n",
    "                    parents[n] = node\n",
    "            processed.append(node)\n",
    "            node = find_lowest_cost_node(costs, processed)\n",
    "        return parents, costs\n"
   ]
  },
  {
   "cell_type": "markdown",
   "metadata": {},
   "source": [
    "Notes on Dijkstra's Algorithm:\n",
    "* Breadth-first search is used to calculate the shortest path for an unweighted graph\n",
    "* Dijkstra's algorithm is used to calculate the shortest path for a weighted graph\n",
    "* Dijkstra's algorithm only works when all weights are positive, otherwise use Bellman-Ford algorithm"
   ]
  },
  {
   "cell_type": "markdown",
   "metadata": {},
   "source": [
    "<h3>Greedy Algorithms</h3>\n",
    "Sometime's you cannot solve an algorithm for the general optimal solution, and so you want to create an algorithm that is just good enough, but is also quick. This is where greedy algorithms come into play. Greedy algorithms aim to give an approximation to the optimal solution whilst also being fast."
   ]
  },
  {
   "cell_type": "markdown",
   "metadata": {},
   "source": [
    "<h4>The Set-covering Problem</h4>\n",
    "Say for example: you have a radio show and you want to reach listeners in all 50 of the US states. You need to decide what stations to play on to reach all those listeners. It costs money to be on each station so you want to minimise the number of stations you play on but get the biggest outreach possible.\n",
    "\n",
    "You could list every possible subset of stations (the power set) and pick the set with the smallest number of stations that covers all 50 states, but there would be a total of 2^n possible subsets, and this could take a long time to calculate. So it would be better to use a greedy algorithm that approximates a reasonible answer. We can do this by picking a station that covers most of the states that haven't been covered yet (even if it overlaps with some other stations in regards to states that have been covered) and then repat until we have coverage over every state\n"
   ]
  },
  {
   "cell_type": "code",
   "execution_count": 5,
   "metadata": {
    "collapsed": true
   },
   "outputs": [],
   "source": [
    "#Setup\n",
    "states_needed = set([\"mt\", \"wa\", \"or\", \"id\", \"nv\", \"ut\"])\n",
    "stations = {\n",
    "    \"kone\": set([\"id\", \"nv\", \"ut\"]),\n",
    "    \"ktwo\": set([\"wa\", \"id\", \"mt\"]),\n",
    "    \"kthree\": set([\"or\", \"nv\", \"ca\"]),\n",
    "    \"kfour\": set([\"nv\", \"ut\"]),\n",
    "    \"kfive\": set([\"ca\", \"az\"])\n",
    "}\n",
    "final_stations = []"
   ]
  },
  {
   "cell_type": "code",
   "execution_count": 6,
   "metadata": {
    "collapsed": true
   },
   "outputs": [],
   "source": [
    "while states_needed:\n",
    "    best_station = None\n",
    "    states_covered = set()\n",
    "    for station, states in stations.items():\n",
    "        covered = states_needed & states #This is called set intersection, see below!\n",
    "        if len(covered) > len(states_covered):\n",
    "            best_station = station\n",
    "            states_covered = covered\n",
    "    states_needed -= states_covered\n",
    "    final_stations.append(best_station)"
   ]
  },
  {
   "cell_type": "code",
   "execution_count": 7,
   "metadata": {},
   "outputs": [
    {
     "data": {
      "text/plain": [
       "['kone', 'ktwo', 'kthree']"
      ]
     },
     "execution_count": 7,
     "metadata": {},
     "output_type": "execute_result"
    }
   ],
   "source": [
    "final_stations"
   ]
  },
  {
   "cell_type": "markdown",
   "metadata": {},
   "source": [
    "**Set union/intersection/difference**"
   ]
  },
  {
   "cell_type": "code",
   "execution_count": 8,
   "metadata": {
    "collapsed": true
   },
   "outputs": [],
   "source": [
    "set_one = set([1,3,5,8,19,25,34])\n",
    "set_two = set([1,3,15,19,23,25,42,68])    "
   ]
  },
  {
   "cell_type": "code",
   "execution_count": 9,
   "metadata": {},
   "outputs": [
    {
     "data": {
      "text/plain": [
       "{1, 3, 5, 8, 15, 19, 23, 25, 34, 42, 68}"
      ]
     },
     "execution_count": 9,
     "metadata": {},
     "output_type": "execute_result"
    }
   ],
   "source": [
    "#Set union\n",
    "set_one | set_two"
   ]
  },
  {
   "cell_type": "code",
   "execution_count": 10,
   "metadata": {},
   "outputs": [
    {
     "data": {
      "text/plain": [
       "{1, 3, 19, 25}"
      ]
     },
     "execution_count": 10,
     "metadata": {},
     "output_type": "execute_result"
    }
   ],
   "source": [
    "#Set intersection\n",
    "set_one & set_two"
   ]
  },
  {
   "cell_type": "code",
   "execution_count": 11,
   "metadata": {},
   "outputs": [
    {
     "data": {
      "text/plain": [
       "{5, 8, 34}"
      ]
     },
     "execution_count": 11,
     "metadata": {},
     "output_type": "execute_result"
    }
   ],
   "source": [
    "#Set difference\n",
    "set_one - set_two"
   ]
  },
  {
   "cell_type": "markdown",
   "metadata": {},
   "source": [
    "<h4>NP-Complete Problems</h4>\n",
    "\n",
    "The problem above is very similar to the 'travelling salesperson' problem. The optimal solution involves calculating every possible solution and picking the smallest/shortest one. Problems like this are called NP-complete problems. (Btw, NP stands for \"nondeterministic polynomial time\").\n",
    "\n",
    "As soon as you realise that a problem is an NP-problem, you should stop trying to solve it perfectly, and instead focus your efforts on making a good approximation. There is no easy way of telling if a probelm is NP-complete, but here are some giveaways:\n",
    "* Your algorithm is quick when processing a few items, but soon deterioates when you add more items\n",
    "* \"All combinations of X\" usually points to an NP-complete problem\n",
    "* You can't break something down into sub-problems and so you have to calculate \"every possible version of X\".\n",
    "* The problem involves a sequence and is difficult to solve (such as the travelling salesperson)\n",
    "* If the problem involves a set and is difficult to solve (like the set-covering problem)\n",
    "* If you can restate the problem like it is the travelling salesperson problem or the set-covering problem, then it is definitely NP-complete"
   ]
  },
  {
   "cell_type": "markdown",
   "metadata": {},
   "source": [
    "Notes on Greedy Algorithms:\n",
    "* They optimise locally, hoping to end up with a global optimum\n",
    "* NP-complete problems have no known fast solution\n",
    "* If you have an NP-complete problem, your best bet is to use an approximation algorithm\n",
    "* Greedy algorithms are simple and fast to run, so they make for good approximation algorithms"
   ]
  },
  {
   "cell_type": "code",
   "execution_count": null,
   "metadata": {
    "collapsed": true
   },
   "outputs": [],
   "source": []
  }
 ],
 "metadata": {
  "kernelspec": {
   "display_name": "Python 3",
   "language": "python",
   "name": "python3"
  },
  "language_info": {
   "codemirror_mode": {
    "name": "ipython",
    "version": 3
   },
   "file_extension": ".py",
   "mimetype": "text/x-python",
   "name": "python",
   "nbconvert_exporter": "python",
   "pygments_lexer": "ipython3",
   "version": "3.5.2"
  }
 },
 "nbformat": 4,
 "nbformat_minor": 2
}
